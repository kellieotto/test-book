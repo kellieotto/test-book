{
 "cells": [
  {
   "cell_type": "markdown",
   "metadata": {},
   "source": [
    "come up with a very small toy data example of Y's - one where we can enumerate everything\n",
    "\n",
    "actually enumerate all possible treatment vectors holding N_t fixed\n",
    "\n",
    "compute the difference in means statistic for each Z\n",
    "\n",
    "compute the p-value\n"
   ]
  }
 ],
 "metadata": {
  "kernelspec": {
   "display_name": "Python 3",
   "language": "python",
   "name": "python3"
  },
  "language_info": {
   "codemirror_mode": {
    "name": "ipython",
    "version": 3
   },
   "file_extension": ".py",
   "mimetype": "text/x-python",
   "name": "python",
   "nbconvert_exporter": "python",
   "pygments_lexer": "ipython3",
   "version": "3.4.3"
  }
 },
 "nbformat": 4,
 "nbformat_minor": 2
}
